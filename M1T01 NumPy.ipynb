{
 "cells": [
  {
   "cell_type": "markdown",
   "id": "af089f0f",
   "metadata": {},
   "source": [
    "# M1 T01: Pràctica amb programació numèrica NumPy\n",
    "\n",
    "Familiaritza't amb la Programació Numèrica a través de la llibreria NumPy.\n",
    "\n",
    "\n",
    "## Exercici 1\n",
    "\n",
    "Crea una funció que donat un Array d’una dimensió, et faci un resum estadístic bàsic de les dades. Si detecta que l’array té més d’una dimensió, ha de mostrar un missatge d’error\n"
   ]
  },
  {
   "cell_type": "code",
   "execution_count": 1,
   "id": "835f4156",
   "metadata": {},
   "outputs": [],
   "source": [
    "import numpy as np\n",
    "\n",
    "def Stats1D(x):\n",
    "    if x.ndim > 1:\n",
    "        print(\"Error! L'array té més d'una dimensió\")\n",
    "    else:\n",
    "        print(\"Mitjana:\", np.mean(x))\n",
    "        print(\"Mediana:\", np.median(x))\n",
    "        print(\"Desviació:\", np.around(np.std(x),2))\n",
    "        print(\"Mínim:\", np.amin(x))\n",
    "        print(\"Màxim:\", np.amax(x))"
   ]
  },
  {
   "cell_type": "markdown",
   "id": "0d3b9a9a",
   "metadata": {},
   "source": [
    "*Passos seguits:*\n",
    "- *Primer carreguem la llibreria NumPy*\n",
    "- *Definim una funció, Stats1D, amb un únic paràmetre d'entrada que és el vector x*\n",
    "- *Mitjançant una estructura condicional, avaluem si el vector és de dimensió 1 o superior*\n",
    "- *Si el vector no és de dimensió 1, l'acció d'aquesta funció serà un print amb el missatge d'error*\n",
    "- *Si el vector és de dimensió 1, l'acció d'aquesta funció serà un print de cinc estadístics descriptius*\n",
    "\n",
    "\n",
    "*Alguns exemples d'aquesta funció:*"
   ]
  },
  {
   "cell_type": "code",
   "execution_count": 2,
   "id": "11de23c1",
   "metadata": {},
   "outputs": [
    {
     "name": "stdout",
     "output_type": "stream",
     "text": [
      "Mitjana: 3.0\n",
      "Mediana: 3.0\n",
      "Desviació: 1.41\n",
      "Mínim: 1\n",
      "Màxim: 5\n"
     ]
    }
   ],
   "source": [
    "a = np.array([1, 2, 3, 4, 5])\n",
    "Stats1D(a)"
   ]
  },
  {
   "cell_type": "code",
   "execution_count": 3,
   "id": "7be4f3ca",
   "metadata": {},
   "outputs": [
    {
     "name": "stdout",
     "output_type": "stream",
     "text": [
      "Error! L'array té més d'una dimensió\n"
     ]
    }
   ],
   "source": [
    "b = np.array([[1, 2, 3], [4, 5, 6]])\n",
    "Stats1D(b)"
   ]
  },
  {
   "cell_type": "markdown",
   "id": "b6b13b71",
   "metadata": {},
   "source": [
    "*Es pot veure que el vector **a** és de dimensió 1 i per tant es calculen els estadístics descriptius. I en canvi, el vector **b** és de dimensió 2 i per això surt un missatge d'error.*"
   ]
  },
  {
   "cell_type": "markdown",
   "id": "6e7030ed",
   "metadata": {},
   "source": [
    "## Exercici 2\n",
    "\n",
    "Crea una funció que et generi un quadrat NxN de nombres aleatoris entre el 0 i el 100."
   ]
  },
  {
   "cell_type": "code",
   "execution_count": 4,
   "id": "bab1c206",
   "metadata": {},
   "outputs": [],
   "source": [
    "import numpy as np\n",
    "from numpy import random\n",
    "\n",
    "def RandomN(N):\n",
    "    x = random.randint(100, size=(N,N))\n",
    "    print(x)"
   ]
  },
  {
   "cell_type": "markdown",
   "id": "7a9fe00d",
   "metadata": {},
   "source": [
    "*Passos seguits:*\n",
    "\n",
    "- *Primer carreguem la llibreria NumPy*\n",
    "- *Cridem el mòdul Random*\n",
    "- *Definim una funció, RandomN, amb un únic paràmetre d'entrada que és la dimensió del quadrat (N)*\n",
    "- *L'acció d'aquesta funció és un vector de NxN de nombres aletoris entre el 0 i el 100*\n",
    "\n",
    "*Alguns exemples d'aquesta funció:*"
   ]
  },
  {
   "cell_type": "code",
   "execution_count": 5,
   "id": "bbcd443c",
   "metadata": {},
   "outputs": [
    {
     "name": "stdout",
     "output_type": "stream",
     "text": [
      "[[47 13 46]\n",
      " [17 89 17]\n",
      " [70 66 26]]\n"
     ]
    }
   ],
   "source": [
    "RandomN(3)"
   ]
  },
  {
   "cell_type": "code",
   "execution_count": 6,
   "id": "edba4dbe",
   "metadata": {},
   "outputs": [
    {
     "name": "stdout",
     "output_type": "stream",
     "text": [
      "[[11 18 71 78 25]\n",
      " [33 42 28 88 74]\n",
      " [88 38 22 80 93]\n",
      " [54 42 24 65 69]\n",
      " [80 79 69 91 20]]\n"
     ]
    }
   ],
   "source": [
    "RandomN(5)"
   ]
  },
  {
   "cell_type": "markdown",
   "id": "8c1395bf",
   "metadata": {},
   "source": [
    "## Exercici 3\n",
    "\n",
    "Crea una funció que donada una taula de dues dimensions, et calculi els totals per fila i els totals per columna."
   ]
  },
  {
   "cell_type": "code",
   "execution_count": 7,
   "id": "7c1667a2",
   "metadata": {},
   "outputs": [],
   "source": [
    "import numpy as np\n",
    "\n",
    "def TotalsFilaColumna(x):\n",
    "    print(\"Totals per fila:\",np.sum(x, axis=1))\n",
    "    print(\"Totals per columna:\",np.sum(x, axis=0))"
   ]
  },
  {
   "cell_type": "markdown",
   "id": "9d65404d",
   "metadata": {},
   "source": [
    "*Passos seguits:*\n",
    "- *Primer carreguem la llibreria NumPy*\n",
    "- *Definim una funció, TotalsFilaColumna, amb un únic paràmetre d'entrada que és el vector x de dues dimensions*\n",
    "- *L'acció d'aquesta funció són dos vectors, en un d'ells els total per fila i en l'altre els totals per columna*\n",
    "\n",
    "*Exemple:*"
   ]
  },
  {
   "cell_type": "code",
   "execution_count": 8,
   "id": "0bd3a392",
   "metadata": {},
   "outputs": [
    {
     "name": "stdout",
     "output_type": "stream",
     "text": [
      "[[1 2 3]\n",
      " [4 5 6]]\n",
      "Totals per fila: [ 6 15]\n",
      "Totals per columna: [5 7 9]\n"
     ]
    }
   ],
   "source": [
    "b = np.array([[1, 2, 3], [4, 5, 6]])\n",
    "print(b)\n",
    "TotalsFilaColumna(b)"
   ]
  },
  {
   "cell_type": "markdown",
   "id": "fa802d77",
   "metadata": {},
   "source": [
    "## Exercici 4\n",
    "\n",
    "Implementa manualment una funció que calculi el coeficient de correlació. Informa’t-en sobre els seus usos i interpretació."
   ]
  },
  {
   "cell_type": "markdown",
   "id": "99470941",
   "metadata": {},
   "source": [
    "*El coeficient de correlació de dues variables, **r**, es calcula com el quocient entre la covarianza i el producte de les desviacions típiques de les dues variables.*"
   ]
  },
  {
   "cell_type": "code",
   "execution_count": 9,
   "id": "adff693e",
   "metadata": {},
   "outputs": [],
   "source": [
    "def coefcorrelacio(x,y):\n",
    "    r = np.cov(x,y)[0,1] / (np.std(x)*np.std(y))\n",
    "    print(r)"
   ]
  },
  {
   "cell_type": "markdown",
   "id": "9c3f1b33",
   "metadata": {},
   "source": [
    "*Quantifica el grau de relació lineal entre les dues variables. És un paràmetre que va de -1 a 1. Com més proper sigui el valor a -1 o 1 la relació és més forta*\n",
    "- *Si r=0, no existeix relació lineal entre les dues variables*\n",
    "- *Si r>0, la relació és positiva. Si augmenta els valors d'una de les variables, augmenta els de l'altre*\n",
    "- *Si r<0, la relació és negativa. Si augmenta els valors d'una de les variables, disminueix els de l'altre*\n",
    "\n",
    "*Exemple:*"
   ]
  },
  {
   "cell_type": "code",
   "execution_count": 10,
   "id": "84233104",
   "metadata": {},
   "outputs": [
    {
     "name": "stdout",
     "output_type": "stream",
     "text": [
      "0.8567457137220003\n"
     ]
    }
   ],
   "source": [
    "alcada = np.array([1.25, 1.28, 1.27, 1.21, 1.22, 1.29, 1.30, 1.24, 1.27, 1.29, 1.25, 1.28, 1.27, 1.21, 1.22, 1.29, 1.30, 1.24, 1.27, 1.29, 1.25, 1.28, 1.27, 1.21, 1.22, 1.29, 1.30, 1.24, 1.27, 1.29])\n",
    "pes = np.array([32,33,34,30,32,35,34,32,32,35,33,35,34,30,33,34,35,32,33,33,33,34,34,31,32,34,34,31,35,34])\n",
    "coefcorrelacio(alcada,pes)"
   ]
  },
  {
   "cell_type": "code",
   "execution_count": null,
   "id": "78977323",
   "metadata": {},
   "outputs": [],
   "source": []
  }
 ],
 "metadata": {
  "kernelspec": {
   "display_name": "Python 3",
   "language": "python",
   "name": "python3"
  },
  "language_info": {
   "codemirror_mode": {
    "name": "ipython",
    "version": 3
   },
   "file_extension": ".py",
   "mimetype": "text/x-python",
   "name": "python",
   "nbconvert_exporter": "python",
   "pygments_lexer": "ipython3",
   "version": "3.8.8"
  }
 },
 "nbformat": 4,
 "nbformat_minor": 5
}
